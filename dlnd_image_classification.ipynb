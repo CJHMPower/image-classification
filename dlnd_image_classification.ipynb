{
 "cells": [
  {
   "cell_type": "markdown",
   "metadata": {
    "collapsed": true,
    "deletable": true,
    "editable": true
   },
   "source": [
    "# Image Classification\n",
    "In this project, you'll classify images from the [CIFAR-10 dataset](https://www.cs.toronto.edu/~kriz/cifar.html).  The dataset consists of airplanes, dogs, cats, and other objects. You'll preprocess the images, then train a convolutional neural network on all the samples. The images need to be normalized and the labels need to be one-hot encoded.  You'll get to apply what you learned and build a convolutional, max pooling, dropout, and fully connected layers.  At the end, you'll get to see your neural network's predictions on the sample images.\n",
    "## Get the Data\n",
    "Run the following cell to download the [CIFAR-10 dataset for python](https://www.cs.toronto.edu/~kriz/cifar-10-python.tar.gz)."
   ]
  },
  {
   "cell_type": "code",
   "execution_count": 1,
   "metadata": {
    "collapsed": false,
    "deletable": true,
    "editable": true
   },
   "outputs": [
    {
     "name": "stdout",
     "output_type": "stream",
     "text": [
      "All files found!\n"
     ]
    }
   ],
   "source": [
    "\"\"\"\n",
    "DON'T MODIFY ANYTHING IN THIS CELL THAT IS BELOW THIS LINE\n",
    "\"\"\"\n",
    "from urllib.request import urlretrieve\n",
    "from os.path import isfile, isdir\n",
    "from tqdm import tqdm\n",
    "import problem_unittests as tests\n",
    "import tarfile\n",
    "\n",
    "cifar10_dataset_folder_path = 'cifar-10-batches-py'\n",
    "\n",
    "class DLProgress(tqdm):\n",
    "    last_block = 0\n",
    "\n",
    "    def hook(self, block_num=1, block_size=1, total_size=None):\n",
    "        self.total = total_size\n",
    "        self.update((block_num - self.last_block) * block_size)\n",
    "        self.last_block = block_num\n",
    "\n",
    "if not isfile('cifar-10-python.tar.gz'):\n",
    "    with DLProgress(unit='B', unit_scale=True, miniters=1, desc='CIFAR-10 Dataset') as pbar:\n",
    "        urlretrieve(\n",
    "            'https://www.cs.toronto.edu/~kriz/cifar-10-python.tar.gz',\n",
    "            'cifar-10-python.tar.gz',\n",
    "            pbar.hook)\n",
    "\n",
    "if not isdir(cifar10_dataset_folder_path):\n",
    "    with tarfile.open('cifar-10-python.tar.gz') as tar:\n",
    "        tar.extractall()\n",
    "        tar.close()\n",
    "\n",
    "\n",
    "tests.test_folder_path(cifar10_dataset_folder_path)"
   ]
  },
  {
   "cell_type": "markdown",
   "metadata": {
    "deletable": true,
    "editable": true
   },
   "source": [
    "## Explore the Data\n",
    "The dataset is broken into batches to prevent your machine from running out of memory.  The CIFAR-10 dataset consists of 5 batches, named `data_batch_1`, `data_batch_2`, etc.. Each batch contains the labels and images that are one of the following:\n",
    "* airplane\n",
    "* automobile\n",
    "* bird\n",
    "* cat\n",
    "* deer\n",
    "* dog\n",
    "* frog\n",
    "* horse\n",
    "* ship\n",
    "* truck\n",
    "\n",
    "Understanding a dataset is part of making predictions on the data.  Play around with the code cell below by changing the `batch_id` and `sample_id`. The `batch_id` is the id for a batch (1-5). The `sample_id` is the id for a image and label pair in the batch.\n",
    "\n",
    "Ask yourself \"What are all possible labels?\", \"What is the range of values for the image data?\", \"Are the labels in order or random?\".  Answers to questions like these will help you preprocess the data and end up with better predictions."
   ]
  },
  {
   "cell_type": "code",
   "execution_count": 2,
   "metadata": {
    "collapsed": false,
    "deletable": true,
    "editable": true
   },
   "outputs": [
    {
     "name": "stdout",
     "output_type": "stream",
     "text": [
      "\n",
      "Stats of batch 1:\n",
      "Samples: 10000\n",
      "Label Counts: {0: 1005, 1: 974, 2: 1032, 3: 1016, 4: 999, 5: 937, 6: 1030, 7: 1001, 8: 1025, 9: 981}\n",
      "First 20 Labels: [6, 9, 9, 4, 1, 1, 2, 7, 8, 3, 4, 7, 7, 2, 9, 9, 9, 3, 2, 6]\n",
      "\n",
      "Example of Image 5:\n",
      "Image - Min Value: 0 Max Value: 252\n",
      "Image - Shape: (32, 32, 3)\n",
      "Label - Label Id: 1 Name: automobile\n"
     ]
    },
    {
     "data": {
      "image/png": "[encoded data removed]",
      "text/plain": [
       "<matplotlib.figure.Figure at 0x7f0a66575358>"
      ]
     },
     "metadata": {
      "image/png": {
       "height": 250,
       "width": 253
      }
     },
     "output_type": "display_data"
    }
   ],
   "source": [
    "%matplotlib inline\n",
    "%config InlineBackend.figure_format = 'retina'\n",
    "\n",
    "import helper\n",
    "import numpy as np\n",
    "\n",
    "# Explore the dataset\n",
    "batch_id = 1\n",
    "sample_id = 5\n",
    "helper.display_stats(cifar10_dataset_folder_path, batch_id, sample_id)"
   ]
  },
  {
   "cell_type": "markdown",
   "metadata": {
    "deletable": true,
    "editable": true
   },
   "source": [
    "## Implement Preprocess Functions\n",
    "### Normalize\n",
    "In the cell below, implement the `normalize` function to take in image data, `x`, and return it as a normalized Numpy array. The values should be in the range of 0 to 1, inclusive.  The return object should be the same shape as `x`."
   ]
  },
  {
   "cell_type": "code",
   "execution_count": 3,
   "metadata": {
    "collapsed": false,
    "deletable": true,
    "editable": true
   },
   "outputs": [
    {
     "name": "stdout",
     "output_type": "stream",
     "text": [
      "Tests Passed\n"
     ]
    }
   ],
   "source": [
    "def normalize(x):\n",
    "    \"\"\"\n",
    "    Normalize a list of sample image data in the range of 0 to 1\n",
    "    : x: List of image data.  The image shape is (32, 32, 3)\n",
    "    : return: Numpy array of normalize data\n",
    "    \"\"\"\n",
    "    # TODO: Implement Function\n",
    "    x_min=np.min(x)\n",
    "    x_max=np.max(x)\n",
    "    return (x-x_min)/(x_max-x_min)\n",
    "\n",
    "\n",
    "\"\"\"\n",
    "DON'T MODIFY ANYTHING IN THIS CELL THAT IS BELOW THIS LINE\n",
    "\"\"\"\n",
    "tests.test_normalize(normalize)"
   ]
  },
  {
   "cell_type": "markdown",
   "metadata": {
    "deletable": true,
    "editable": true
   },
   "source": [
    "### One-hot encode\n",
    "Just like the previous code cell, you'll be implementing a function for preprocessing.  This time, you'll implement the `one_hot_encode` function. The input, `x`, are a list of labels.  Implement the function to return the list of labels as One-Hot encoded Numpy array.  The possible values for labels are 0 to 9. The one-hot encoding function should return the same encoding for each value between each call to `one_hot_encode`.  Make sure to save the map of encodings outside the function.\n",
    "\n",
    "Hint: Don't reinvent the wheel."
   ]
  },
  {
   "cell_type": "code",
   "execution_count": 4,
   "metadata": {
    "collapsed": false,
    "deletable": true,
    "editable": true
   },
   "outputs": [
    {
     "name": "stdout",
     "output_type": "stream",
     "text": [
      "Tests Passed\n"
     ]
    }
   ],
   "source": [
    "def one_hot_encode(x):\n",
    "    \"\"\"\n",
    "    One hot encode a list of sample labels. Return a one-hot encoded vector for each label.\n",
    "    : x: List of sample Labels\n",
    "    : return: Numpy array of one-hot encoded labels\n",
    "    \"\"\"\n",
    "    # TODO: Implement Function\n",
    "    ret=np.zeros((len(x),10))\n",
    "    for i,y in enumerate(x):\n",
    "        ret[i][y]=1\n",
    "    return ret\n",
    "\n",
    "\n",
    "\"\"\"\n",
    "DON'T MODIFY ANYTHING IN THIS CELL THAT IS BELOW THIS LINE\n",
    "\"\"\"\n",
    "tests.test_one_hot_encode(one_hot_encode)"
   ]
  },
  {
   "cell_type": "markdown",
   "metadata": {
    "deletable": true,
    "editable": true
   },
   "source": [
    "### Randomize Data\n",
    "As you saw from exploring the data above, the order of the samples are randomized.  It doesn't hurt to randomize it again, but you don't need to for this dataset."
   ]
  },
  {
   "cell_type": "markdown",
   "metadata": {
    "deletable": true,
    "editable": true
   },
   "source": [
    "## Preprocess all the data and save it\n",
    "Running the code cell below will preprocess all the CIFAR-10 data and save it to file. The code below also uses 10% of the training data for validation."
   ]
  },
  {
   "cell_type": "code",
   "execution_count": 5,
   "metadata": {
    "collapsed": false,
    "deletable": true,
    "editable": true
   },
   "outputs": [],
   "source": [
    "\"\"\"\n",
    "DON'T MODIFY ANYTHING IN THIS CELL\n",
    "\"\"\"\n",
    "# Preprocess Training, Validation, and Testing Data\n",
    "helper.preprocess_and_save_data(cifar10_dataset_folder_path, normalize, one_hot_encode)"
   ]
  },
  {
   "cell_type": "markdown",
   "metadata": {
    "deletable": true,
    "editable": true
   },
   "source": [
    "# Check Point\n",
    "This is your first checkpoint.  If you ever decide to come back to this notebook or have to restart the notebook, you can start from here.  The preprocessed data has been saved to disk."
   ]
  },
  {
   "cell_type": "code",
   "execution_count": 6,
   "metadata": {
    "collapsed": true,
    "deletable": true,
    "editable": true
   },
   "outputs": [],
   "source": [
    "\"\"\"\n",
    "DON'T MODIFY ANYTHING IN THIS CELL\n",
    "\"\"\"\n",
    "import pickle\n",
    "import problem_unittests as tests\n",
    "import helper\n",
    "\n",
    "# Load the Preprocessed Validation data\n",
    "valid_features, valid_labels = pickle.load(open('preprocess_validation.p', mode='rb'))"
   ]
  },
  {
   "cell_type": "markdown",
   "metadata": {
    "deletable": true,
    "editable": true
   },
   "source": [
    "## Build the network\n",
    "For the neural network, you'll build each layer into a function.  Most of the code you've seen has been outside of functions. To test your code more thoroughly, we require that you put each layer in a function.  This allows us to give you better feedback and test for simple mistakes using our unittests before you submit your project.\n",
    "\n",
    ">**Note:** If you're finding it hard to dedicate enough time for this course each week, we've provided a small shortcut to this part of the project. In the next couple of problems, you'll have the option to use classes from the [TensorFlow Layers](https://www.tensorflow.org/api_docs/python/tf/layers) or [TensorFlow Layers (contrib)](https://www.tensorflow.org/api_guides/python/contrib.layers) packages to build each layer, except the layers you build in the \"Convolutional and Max Pooling Layer\" section.  TF Layers is similar to Keras's and TFLearn's abstraction to layers, so it's easy to pickup.\n",
    "\n",
    ">However, if you would like to get the most out of this course, try to solve all the problems _without_ using anything from the TF Layers packages. You **can** still use classes from other packages that happen to have the same name as ones you find in TF Layers! For example, instead of using the TF Layers version of the `conv2d` class, [tf.layers.conv2d](https://www.tensorflow.org/api_docs/python/tf/layers/conv2d), you would want to use the TF Neural Network version of `conv2d`, [tf.nn.conv2d](https://www.tensorflow.org/api_docs/python/tf/nn/conv2d). \n",
    "\n",
    "Let's begin!\n",
    "\n",
    "### Input\n",
    "The neural network needs to read the image data, one-hot encoded labels, and dropout keep probability. Implement the following functions\n",
    "* Implement `neural_net_image_input`\n",
    " * Return a [TF Placeholder](https://www.tensorflow.org/api_docs/python/tf/placeholder)\n",
    " * Set the shape using `image_shape` with batch size set to `None`.\n",
    " * Name the TensorFlow placeholder \"x\" using the TensorFlow `name` parameter in the [TF Placeholder](https://www.tensorflow.org/api_docs/python/tf/placeholder).\n",
    "* Implement `neural_net_label_input`\n",
    " * Return a [TF Placeholder](https://www.tensorflow.org/api_docs/python/tf/placeholder)\n",
    " * Set the shape using `n_classes` with batch size set to `None`.\n",
    " * Name the TensorFlow placeholder \"y\" using the TensorFlow `name` parameter in the [TF Placeholder](https://www.tensorflow.org/api_docs/python/tf/placeholder).\n",
    "* Implement `neural_net_keep_prob_input`\n",
    " * Return a [TF Placeholder](https://www.tensorflow.org/api_docs/python/tf/placeholder) for dropout keep probability.\n",
    " * Name the TensorFlow placeholder \"keep_prob\" using the TensorFlow `name` parameter in the [TF Placeholder](https://www.tensorflow.org/api_docs/python/tf/placeholder).\n",
    "\n",
    "These names will be used at the end of the project to load your saved model.\n",
    "\n",
    "Note: `None` for shapes in TensorFlow allow for a dynamic size."
   ]
  },
  {
   "cell_type": "code",
   "execution_count": 7,
   "metadata": {
    "collapsed": false,
    "deletable": true,
    "editable": true
   },
   "outputs": [
    {
     "name": "stdout",
     "output_type": "stream",
     "text": [
      "Image Input Tests Passed.\n",
      "Label Input Tests Passed.\n",
      "Keep Prob Tests Passed.\n"
     ]
    }
   ],
   "source": [
    "import tensorflow as tf\n",
    "\n",
    "def neural_net_image_input(image_shape):\n",
    "    \"\"\"\n",
    "    Return a Tensor for a bach of image input\n",
    "    : image_shape: Shape of the images\n",
    "    : return: Tensor for image input.\n",
    "    \"\"\"\n",
    "   \n",
    "    return tf.placeholder(tf.float32,shape=[None,image_shape[0],image_shape[1],image_shape[2]],name=\"x\")\n",
    "\n",
    "\n",
    "def neural_net_label_input(n_classes):\n",
    "    \"\"\"\n",
    "    Return a Tensor for a batch of label input\n",
    "    : n_classes: Number of classes\n",
    "    : return: Tensor for label input.\n",
    "    \"\"\"\n",
    "    # TODO: Implement Function\n",
    "    return tf.placeholder(tf.float32,shape=[None,n_classes],name=\"y\")\n",
    "\n",
    "\n",
    "def neural_net_keep_prob_input():\n",
    "    \"\"\"\n",
    "    Return a Tensor for keep probability\n",
    "    : return: Tensor for keep probability.\n",
    "    \"\"\"\n",
    "    # TODO: Implement Function\n",
    "    return tf.placeholder(tf.float32,name=\"keep_prob\")\n",
    "\n",
    "\n",
    "\"\"\"\n",
    "DON'T MODIFY ANYTHING IN THIS CELL THAT IS BELOW THIS LINE\n",
    "\"\"\"\n",
    "tf.reset_default_graph()\n",
    "tests.test_nn_image_inputs(neural_net_image_input)\n",
    "tests.test_nn_label_inputs(neural_net_label_input)\n",
    "tests.test_nn_keep_prob_inputs(neural_net_keep_prob_input)"
   ]
  },
  {
   "cell_type": "markdown",
   "metadata": {
    "deletable": true,
    "editable": true
   },
   "source": [
    "### Convolution and Max Pooling Layer\n",
    "Convolution layers have a lot of success with images. For this code cell, you should implement the function `conv2d_maxpool` to apply convolution then max pooling:\n",
    "* Create the weight and bias using `conv_ksize`, `conv_num_outputs` and the shape of `x_tensor`.\n",
    "* Apply a convolution to `x_tensor` using weight and `conv_strides`.\n",
    " * We recommend you use same padding, but you're welcome to use any padding.\n",
    "* Add bias\n",
    "* Add a nonlinear activation to the convolution.\n",
    "* Apply Max Pooling using `pool_ksize` and `pool_strides`.\n",
    " * We recommend you use same padding, but you're welcome to use any padding.\n",
    "\n",
    "**Note:** You **can't** use [TensorFlow Layers](https://www.tensorflow.org/api_docs/python/tf/layers) or [TensorFlow Layers (contrib)](https://www.tensorflow.org/api_guides/python/contrib.layers) for **this** layer, but you can still use TensorFlow's [Neural Network](https://www.tensorflow.org/api_docs/python/tf/nn) package. You may still use the shortcut option for all the **other** layers."
   ]
  },
  {
   "cell_type": "code",
   "execution_count": 8,
   "metadata": {
    "collapsed": false,
    "deletable": true,
    "editable": true
   },
   "outputs": [
    {
     "name": "stdout",
     "output_type": "stream",
     "text": [
      "Tests Passed\n"
     ]
    }
   ],
   "source": [
    "def conv2d_maxpool(x_tensor, conv_num_outputs, conv_ksize, conv_strides, pool_ksize, pool_strides):\n",
    "    \"\"\"\n",
    "    Apply convolution then max pooling to x_tensor\n",
    "    :param x_tensor: TensorFlow Tensor\n",
    "    :param conv_num_outputs: Number of outputs for the convolutional layer\n",
    "    :param conv_ksize: kernal size 2-D Tuple for the convolutional layer\n",
    "    :param conv_strides: Stride 2-D Tuple for convolution\n",
    "    :param pool_ksize: kernal size 2-D Tuple for pool\n",
    "    :param pool_strides: Stride 2-D Tuple for pool\n",
    "    : return: A tensor that represents convolution and max pooling of x_tensor\n",
    "    \"\"\"\n",
    "    # TODO: Implement Function\n",
    "    input_depth=int(x_tensor.get_shape()[3])\n",
    "    \n",
    "    weights=tf.Variable(tf.truncated_normal((conv_ksize[0],conv_ksize[1],input_depth,conv_num_outputs),stddev=0.1))\n",
    "    bias=tf.Variable(tf.zeros([conv_num_outputs]))\n",
    "    conv_layer=tf.nn.conv2d(x_tensor,weights,strides=[1,conv_strides[0],conv_strides[1],1],padding='SAME')\n",
    "    conv_layer=tf.nn.bias_add(conv_layer,bias)\n",
    "    conv_layer=tf.nn.relu(conv_layer)\n",
    "    conv_layer=tf.nn.max_pool(conv_layer,ksize=[1,pool_ksize[0],pool_ksize[1],1],strides=[1,pool_strides[0],pool_strides[1],1],padding='SAME')\n",
    "    \n",
    "    return conv_layer\n",
    "\n",
    "    \n",
    "\n",
    "\n",
    "\"\"\"\n",
    "DON'T MODIFY ANYTHING IN THIS CELL THAT IS BELOW THIS LINE\n",
    "\"\"\"\n",
    "tests.test_con_pool(conv2d_maxpool)"
   ]
  },
  {
   "cell_type": "markdown",
   "metadata": {
    "deletable": true,
    "editable": true
   },
   "source": [
    "### Flatten Layer\n",
    "Implement the `flatten` function to change the dimension of `x_tensor` from a 4-D tensor to a 2-D tensor.  The output should be the shape (*Batch Size*, *Flattened Image Size*). Shortcut option: you can use classes from the [TensorFlow Layers](https://www.tensorflow.org/api_docs/python/tf/layers) or [TensorFlow Layers (contrib)](https://www.tensorflow.org/api_guides/python/contrib.layers) packages for this layer. For more of a challenge, only use other TensorFlow packages."
   ]
  },
  {
   "cell_type": "code",
   "execution_count": 9,
   "metadata": {
    "collapsed": false,
    "deletable": true,
    "editable": true
   },
   "outputs": [
    {
     "name": "stdout",
     "output_type": "stream",
     "text": [
      "Tests Passed\n"
     ]
    }
   ],
   "source": [
    "def flatten(x_tensor):\n",
    "    \"\"\"\n",
    "    Flatten x_tensor to (Batch Size, Flattened Image Size)\n",
    "    : x_tensor: A tensor of size (Batch Size, ...), where ... are the image dimensions.\n",
    "    : return: A tensor of size (Batch Size, Flattened Image Size).\n",
    "    \"\"\"\n",
    "    # TODO: Implement Function\n",
    "    return tf.contrib.layers.flatten(x_tensor)\n",
    "\n",
    "\n",
    "\"\"\"\n",
    "DON'T MODIFY ANYTHING IN THIS CELL THAT IS BELOW THIS LINE\n",
    "\"\"\"\n",
    "tests.test_flatten(flatten)"
   ]
  },
  {
   "cell_type": "markdown",
   "metadata": {
    "deletable": true,
    "editable": true
   },
   "source": [
    "### Fully-Connected Layer\n",
    "Implement the `fully_conn` function to apply a fully connected layer to `x_tensor` with the shape (*Batch Size*, *num_outputs*). Shortcut option: you can use classes from the [TensorFlow Layers](https://www.tensorflow.org/api_docs/python/tf/layers) or [TensorFlow Layers (contrib)](https://www.tensorflow.org/api_guides/python/contrib.layers) packages for this layer. For more of a challenge, only use other TensorFlow packages."
   ]
  },
  {
   "cell_type": "code",
   "execution_count": 10,
   "metadata": {
    "collapsed": false,
    "deletable": true,
    "editable": true
   },
   "outputs": [
    {
     "name": "stdout",
     "output_type": "stream",
     "text": [
      "Tests Passed\n"
     ]
    }
   ],
   "source": [
    "def fully_conn(x_tensor, num_outputs):\n",
    "    \"\"\"\n",
    "    Apply a fully connected layer to x_tensor using weight and bias\n",
    "    : x_tensor: A 2-D tensor where the first dimension is batch size.\n",
    "    : num_outputs: The number of output that the new tensor should be.\n",
    "    : return: A 2-D tensor where the second dimension is num_outputs.\n",
    "    \"\"\"\n",
    "    # TODO: Implement Function\n",
    "    dim1=int(x_tensor.get_shape().as_list()[1])\n",
    "    weights=tf.Variable(tf.truncated_normal((dim1,num_outputs),stddev=0.1))\n",
    "    bias=tf.Variable(tf.zeros([num_outputs]))\n",
    "    ret=tf.add(tf.matmul(x_tensor,weights),bias)\n",
    "    return tf.nn.relu(ret)\n",
    "\n",
    "\n",
    "\"\"\"\n",
    "DON'T MODIFY ANYTHING IN THIS CELL THAT IS BELOW THIS LINE\n",
    "\"\"\"\n",
    "tests.test_fully_conn(fully_conn)"
   ]
  },
  {
   "cell_type": "markdown",
   "metadata": {
    "deletable": true,
    "editable": true
   },
   "source": [
    "### Output Layer\n",
    "Implement the `output` function to apply a fully connected layer to `x_tensor` with the shape (*Batch Size*, *num_outputs*). Shortcut option: you can use classes from the [TensorFlow Layers](https://www.tensorflow.org/api_docs/python/tf/layers) or [TensorFlow Layers (contrib)](https://www.tensorflow.org/api_guides/python/contrib.layers) packages for this layer. For more of a challenge, only use other TensorFlow packages.\n",
    "\n",
    "**Note:** Activation, softmax, or cross entropy should **not** be applied to this."
   ]
  },
  {
   "cell_type": "code",
   "execution_count": 11,
   "metadata": {
    "collapsed": false,
    "deletable": true,
    "editable": true
   },
   "outputs": [
    {
     "name": "stdout",
     "output_type": "stream",
     "text": [
      "Tests Passed\n"
     ]
    }
   ],
   "source": [
    "def output(x_tensor, num_outputs):\n",
    "    \"\"\"\n",
    "    Apply a output layer to x_tensor using weight and bias\n",
    "    : x_tensor: A 2-D tensor where the first dimension is batch size.\n",
    "    : num_outputs: The number of output that the new tensor should be.\n",
    "    : return: A 2-D tensor where the second dimension is num_outputs.\n",
    "    \"\"\"\n",
    "    # TODO: Implement Function\n",
    "    dim1=int(x_tensor.get_shape().as_list()[1])\n",
    "    weights=tf.Variable(tf.truncated_normal((dim1,num_outputs),stddev=0.1))\n",
    "    bias=tf.Variable(tf.zeros([num_outputs]))\n",
    "    return tf.add(tf.matmul(x_tensor,weights),bias)\n",
    "\n",
    "\n",
    "\"\"\"\n",
    "DON'T MODIFY ANYTHING IN THIS CELL THAT IS BELOW THIS LINE\n",
    "\"\"\"\n",
    "tests.test_output(output)"
   ]
  },
  {
   "cell_type": "markdown",
   "metadata": {
    "deletable": true,
    "editable": true
   },
   "source": [
    "### Create Convolutional Model\n",
    "Implement the function `conv_net` to create a convolutional neural network model. The function takes in a batch of images, `x`, and outputs logits.  Use the layers you created above to create this model:\n",
    "\n",
    "* Apply 1, 2, or 3 Convolution and Max Pool layers\n",
    "* Apply a Flatten Layer\n",
    "* Apply 1, 2, or 3 Fully Connected Layers\n",
    "* Apply an Output Layer\n",
    "* Return the output\n",
    "* Apply [TensorFlow's Dropout](https://www.tensorflow.org/api_docs/python/tf/nn/dropout) to one or more layers in the model using `keep_prob`. "
   ]
  },
  {
   "cell_type": "code",
   "execution_count": 12,
   "metadata": {
    "collapsed": false,
    "deletable": true,
    "editable": true
   },
   "outputs": [
    {
     "name": "stdout",
     "output_type": "stream",
     "text": [
      "Neural Network Built!\n"
     ]
    }
   ],
   "source": [
    "def conv_net(x, keep_prob):\n",
    "    \"\"\"\n",
    "    Create a convolutional neural network model\n",
    "    : x: Placeholder tensor that holds image data.\n",
    "    : keep_prob: Placeholder tensor that hold dropout keep probability.\n",
    "    : return: Tensor that represents logits\n",
    "    \"\"\"\n",
    "    # TODO: Apply 1, 2, or 3 Convolution and Max Pool layers\n",
    "    #    Play around with different number of outputs, kernel size and stride\n",
    "    # Function Definition from Above:\n",
    "    #    conv2d_maxpool(x_tensor, conv_num_outputs, conv_ksize, conv_strides, pool_ksize, pool_strides)\n",
    "    \n",
    "\n",
    "    # TODO: Apply a Flatten Layer\n",
    "    # Function Definition from Above:\n",
    "    #   flatten(x_tensor)\n",
    "    \n",
    "\n",
    "    # TODO: Apply 1, 2, or 3 Fully Connected Layers\n",
    "    #    Play around with different number of outputs\n",
    "    # Function Definition from Above:\n",
    "    #   fully_conn(x_tensor, num_outputs)\n",
    "    \n",
    "    \n",
    "    # TODO: Apply an Output Layer\n",
    "    #    Set this to the number of classes\n",
    "    # Function Definition from Above:\n",
    "    #   output(x_tensor, num_outputs)\n",
    "    \n",
    "    conv_num_output=64\n",
    "    conv_ksize=3,3\n",
    "    conv_strides=1,1\n",
    "    pool_ksize=3,3\n",
    "    pool_strides=2,2\n",
    "    conv_layer1=conv2d_maxpool(x,conv_num_output,conv_ksize,conv_strides,pool_ksize,pool_strides)\n",
    "    \n",
    "    \n",
    "    conv_layer1=tf.nn.dropout(conv_layer1,keep_prob)\n",
    "    flat_layer=flatten(conv_layer1)\n",
    "    \n",
    "    num_output=400\n",
    "    fc_layer=fully_conn(flat_layer,num_output)\n",
    "    fc_layer=tf.nn.dropout(fc_layer,keep_prob)\n",
    "    \n",
    "    num_output=200\n",
    "    fc_layer=fully_conn(fc_layer,num_output)\n",
    "    \n",
    "    \n",
    "    fc_layer=tf.nn.dropout(fc_layer,keep_prob)\n",
    "    \n",
    "    num_output=10\n",
    "    logits=output(fc_layer,num_output)\n",
    "    return logits\n",
    "    # TODO: return output\n",
    "\n",
    "\n",
    "\n",
    "\"\"\"\n",
    "DON'T MODIFY ANYTHING IN THIS CELL THAT IS BELOW THIS LINE\n",
    "\"\"\"\n",
    "\n",
    "##############################\n",
    "## Build the Neural Network ##\n",
    "##############################\n",
    "\n",
    "# Remove previous weights, bias, inputs, etc..\n",
    "tf.reset_default_graph()\n",
    "\n",
    "# Inputs\n",
    "x = neural_net_image_input((32, 32, 3))\n",
    "y = neural_net_label_input(10)\n",
    "keep_prob = neural_net_keep_prob_input()\n",
    "\n",
    "# Model\n",
    "logits = conv_net(x, keep_prob)\n",
    "\n",
    "# Name logits Tensor, so that is can be loaded from disk after training\n",
    "logits = tf.identity(logits, name='logits')\n",
    "\n",
    "# Loss and Optimizer\n",
    "cost = tf.reduce_mean(tf.nn.softmax_cross_entropy_with_logits(logits=logits, labels=y))\n",
    "optimizer = tf.train.AdamOptimizer().minimize(cost)\n",
    "\n",
    "# Accuracy\n",
    "correct_pred = tf.equal(tf.argmax(logits, 1), tf.argmax(y, 1))\n",
    "accuracy = tf.reduce_mean(tf.cast(correct_pred, tf.float32), name='accuracy')\n",
    "\n",
    "\n",
    "tests.test_conv_net(conv_net)"
   ]
  },
  {
   "cell_type": "markdown",
   "metadata": {
    "deletable": true,
    "editable": true
   },
   "source": [
    "## Train the Neural Network\n",
    "### Single Optimization\n",
    "Implement the function `train_neural_network` to do a single optimization.  The optimization should use `optimizer` to optimize in `session` with a `feed_dict` of the following:\n",
    "* `x` for image input\n",
    "* `y` for labels\n",
    "* `keep_prob` for keep probability for dropout\n",
    "\n",
    "This function will be called for each batch, so `tf.global_variables_initializer()` has already been called.\n",
    "\n",
    "Note: Nothing needs to be returned. This function is only optimizing the neural network."
   ]
  },
  {
   "cell_type": "code",
   "execution_count": 13,
   "metadata": {
    "collapsed": false,
    "deletable": true,
    "editable": true
   },
   "outputs": [
    {
     "name": "stdout",
     "output_type": "stream",
     "text": [
      "Tests Passed\n"
     ]
    }
   ],
   "source": [
    "def train_neural_network(session, optimizer, keep_probability, feature_batch, label_batch):\n",
    "    \"\"\"\n",
    "    Optimize the session on a batch of images and labels\n",
    "    : session: Current TensorFlow session\n",
    "    : optimizer: TensorFlow optimizer function\n",
    "    : keep_probability: keep probability\n",
    "    : feature_batch: Batch of Numpy image data\n",
    "    : label_batch: Batch of Numpy label data\n",
    "    \"\"\"\n",
    "    # TODO: Implement Function\n",
    "    session.run(optimizer,feed_dict={x:feature_batch,y:label_batch,keep_prob:keep_probability})\n",
    "    pass\n",
    "\n",
    "\n",
    "\"\"\"\n",
    "DON'T MODIFY ANYTHING IN THIS CELL THAT IS BELOW THIS LINE\n",
    "\"\"\"\n",
    "tests.test_train_nn(train_neural_network)"
   ]
  },
  {
   "cell_type": "markdown",
   "metadata": {
    "deletable": true,
    "editable": true
   },
   "source": [
    "### Show Stats\n",
    "Implement the function `print_stats` to print loss and validation accuracy.  Use the global variables `valid_features` and `valid_labels` to calculate validation accuracy.  Use a keep probability of `1.0` to calculate the loss and validation accuracy."
   ]
  },
  {
   "cell_type": "code",
   "execution_count": 14,
   "metadata": {
    "collapsed": false,
    "deletable": true,
    "editable": true
   },
   "outputs": [],
   "source": [
    "def print_stats(session, feature_batch, label_batch, cost, accuracy):\n",
    "    \"\"\"\n",
    "    Print information about loss and validation accuracy\n",
    "    : session: Current TensorFlow session\n",
    "    : feature_batch: Batch of Numpy image data\n",
    "    : label_batch: Batch of Numpy label data\n",
    "    : cost: TensorFlow cost function\n",
    "    : accuracy: TensorFlow accuracy function\n",
    "    \"\"\"\n",
    "    global valid_features,valid_labels\n",
    "    loss=session.run(cost,feed_dict={x:feature_batch,y:label_batch,keep_prob:1.0})\n",
    "    valid_acc=session.run(accuracy,feed_dict={x:valid_features,y:valid_labels,keep_prob:1.0})\n",
    "    print(loss,valid_acc)\n",
    "    pass"
   ]
  },
  {
   "cell_type": "markdown",
   "metadata": {
    "deletable": true,
    "editable": true
   },
   "source": [
    "### Hyperparameters\n",
    "Tune the following parameters:\n",
    "* Set `epochs` to the number of iterations until the network stops learning or start overfitting\n",
    "* Set `batch_size` to the highest number that your machine has memory for.  Most people set them to common sizes of memory:\n",
    " * 64\n",
    " * 128\n",
    " * 256\n",
    " * ...\n",
    "* Set `keep_probability` to the probability of keeping a node using dropout"
   ]
  },
  {
   "cell_type": "code",
   "execution_count": 15,
   "metadata": {
    "collapsed": true,
    "deletable": true,
    "editable": true
   },
   "outputs": [],
   "source": [
    "# TODO: Tune Parameters\n",
    "epochs = 50\n",
    "batch_size = 1024\n",
    "keep_probability = 0.5"
   ]
  },
  {
   "cell_type": "markdown",
   "metadata": {
    "deletable": true,
    "editable": true
   },
   "source": [
    "### Train on a Single CIFAR-10 Batch\n",
    "Instead of training the neural network on all the CIFAR-10 batches of data, let's use a single batch. This should save time while you iterate on the model to get a better accuracy.  Once the final validation accuracy is 50% or greater, run the model on all the data in the next section."
   ]
  },
  {
   "cell_type": "code",
   "execution_count": 16,
   "metadata": {
    "collapsed": false,
    "deletable": true,
    "editable": true
   },
   "outputs": [
    {
     "name": "stdout",
     "output_type": "stream",
     "text": [
      "Checking the Training on a Single Batch...\n",
      "Epoch  1, CIFAR-10 Batch 1:  2.27747 0.149\n",
      "Epoch  2, CIFAR-10 Batch 1:  2.30191 0.1072\n",
      "Epoch  3, CIFAR-10 Batch 1:  2.29262 0.1558\n",
      "Epoch  4, CIFAR-10 Batch 1:  2.28919 0.1678\n",
      "Epoch  5, CIFAR-10 Batch 1:  2.24317 0.1996\n",
      "Epoch  6, CIFAR-10 Batch 1:  2.2249 0.2038\n",
      "Epoch  7, CIFAR-10 Batch 1:  2.16322 0.256\n",
      "Epoch  8, CIFAR-10 Batch 1:  2.12579 0.2664\n",
      "Epoch  9, CIFAR-10 Batch 1:  2.05913 0.288\n",
      "Epoch 10, CIFAR-10 Batch 1:  2.02816 0.262\n",
      "Epoch 11, CIFAR-10 Batch 1:  1.99067 0.2832\n",
      "Epoch 12, CIFAR-10 Batch 1:  1.94464 0.2758\n",
      "Epoch 13, CIFAR-10 Batch 1:  1.88702 0.3166\n",
      "Epoch 14, CIFAR-10 Batch 1:  1.85514 0.3446\n",
      "Epoch 15, CIFAR-10 Batch 1:  1.8054 0.3616\n",
      "Epoch 16, CIFAR-10 Batch 1:  1.76835 0.3774\n",
      "Epoch 17, CIFAR-10 Batch 1:  1.73432 0.3914\n",
      "Epoch 18, CIFAR-10 Batch 1:  1.70726 0.4026\n",
      "Epoch 19, CIFAR-10 Batch 1:  1.6546 0.4262\n",
      "Epoch 20, CIFAR-10 Batch 1:  1.64023 0.4278\n",
      "Epoch 21, CIFAR-10 Batch 1:  1.58119 0.438\n",
      "Epoch 22, CIFAR-10 Batch 1:  1.54844 0.4458\n",
      "Epoch 23, CIFAR-10 Batch 1:  1.53393 0.4556\n",
      "Epoch 24, CIFAR-10 Batch 1:  1.49286 0.4546\n",
      "Epoch 25, CIFAR-10 Batch 1:  1.45494 0.467\n",
      "Epoch 26, CIFAR-10 Batch 1:  1.43809 0.4762\n",
      "Epoch 27, CIFAR-10 Batch 1:  1.38836 0.4796\n",
      "Epoch 28, CIFAR-10 Batch 1:  1.37484 0.4874\n",
      "Epoch 29, CIFAR-10 Batch 1:  1.35276 0.4888\n",
      "Epoch 30, CIFAR-10 Batch 1:  1.29918 0.4986\n",
      "Epoch 31, CIFAR-10 Batch 1:  1.2775 0.501\n",
      "Epoch 32, CIFAR-10 Batch 1:  1.26775 0.5056\n",
      "Epoch 33, CIFAR-10 Batch 1:  1.23925 0.51\n",
      "Epoch 34, CIFAR-10 Batch 1:  1.2192 0.5146\n",
      "Epoch 35, CIFAR-10 Batch 1:  1.19399 0.525\n",
      "Epoch 36, CIFAR-10 Batch 1:  1.18486 0.528\n",
      "Epoch 37, CIFAR-10 Batch 1:  1.1596 0.5332\n",
      "Epoch 38, CIFAR-10 Batch 1:  1.1294 0.538\n",
      "Epoch 39, CIFAR-10 Batch 1:  1.12234 0.5414\n",
      "Epoch 40, CIFAR-10 Batch 1:  1.09721 0.5438\n",
      "Epoch 41, CIFAR-10 Batch 1:  1.08033 0.5452\n",
      "Epoch 42, CIFAR-10 Batch 1:  1.06646 0.5464\n",
      "Epoch 43, CIFAR-10 Batch 1:  1.04594 0.5496\n",
      "Epoch 44, CIFAR-10 Batch 1:  1.02523 0.552\n",
      "Epoch 45, CIFAR-10 Batch 1:  1.0099 0.555\n",
      "Epoch 46, CIFAR-10 Batch 1:  1.0062 0.5512\n",
      "Epoch 47, CIFAR-10 Batch 1:  0.973387 0.5554\n",
      "Epoch 48, CIFAR-10 Batch 1:  0.960901 0.5614\n",
      "Epoch 49, CIFAR-10 Batch 1:  0.955612 0.5566\n",
      "Epoch 50, CIFAR-10 Batch 1:  0.94487 0.5666\n"
     ]
    }
   ],
   "source": [
    "\"\"\"\n",
    "DON'T MODIFY ANYTHING IN THIS CELL\n",
    "\"\"\"\n",
    "print('Checking the Training on a Single Batch...')\n",
    "with tf.Session() as sess:\n",
    "    # Initializing the variables\n",
    "    sess.run(tf.global_variables_initializer())\n",
    "    \n",
    "    # Training cycle\n",
    "    for epoch in range(epochs):\n",
    "        batch_i = 1\n",
    "        for batch_features, batch_labels in helper.load_preprocess_training_batch(batch_i, batch_size):\n",
    "            train_neural_network(sess, optimizer, keep_probability, batch_features, batch_labels)\n",
    "        print('Epoch {:>2}, CIFAR-10 Batch {}:  '.format(epoch + 1, batch_i), end='')\n",
    "        print_stats(sess, batch_features, batch_labels, cost, accuracy)"
   ]
  },
  {
   "cell_type": "markdown",
   "metadata": {
    "deletable": true,
    "editable": true
   },
   "source": [
    "### Fully Train the Model\n",
    "Now that you got a good accuracy with a single CIFAR-10 batch, try it with all five batches."
   ]
  },
  {
   "cell_type": "code",
   "execution_count": 17,
   "metadata": {
    "collapsed": false,
    "deletable": true,
    "editable": true
   },
   "outputs": [
    {
     "name": "stdout",
     "output_type": "stream",
     "text": [
      "Training...\n",
      "Epoch  1, CIFAR-10 Batch 1:  2.30355 0.1138\n",
      "Epoch  1, CIFAR-10 Batch 2:  2.28422 0.176\n",
      "Epoch  1, CIFAR-10 Batch 3:  2.26855 0.165\n",
      "Epoch  1, CIFAR-10 Batch 4:  2.22335 0.2228\n",
      "Epoch  1, CIFAR-10 Batch 5:  2.11696 0.2462\n",
      "Epoch  2, CIFAR-10 Batch 1:  2.09202 0.283\n",
      "Epoch  2, CIFAR-10 Batch 2:  1.98367 0.3142\n",
      "Epoch  2, CIFAR-10 Batch 3:  1.92573 0.3338\n",
      "Epoch  2, CIFAR-10 Batch 4:  1.85836 0.34\n",
      "Epoch  2, CIFAR-10 Batch 5:  1.82125 0.3738\n",
      "Epoch  3, CIFAR-10 Batch 1:  1.77636 0.388\n",
      "Epoch  3, CIFAR-10 Batch 2:  1.73999 0.4062\n",
      "Epoch  3, CIFAR-10 Batch 3:  1.64523 0.422\n",
      "Epoch  3, CIFAR-10 Batch 4:  1.63203 0.4212\n",
      "Epoch  3, CIFAR-10 Batch 5:  1.62189 0.4336\n",
      "Epoch  4, CIFAR-10 Batch 1:  1.58853 0.45\n",
      "Epoch  4, CIFAR-10 Batch 2:  1.57479 0.4552\n",
      "Epoch  4, CIFAR-10 Batch 3:  1.49468 0.4648\n",
      "Epoch  4, CIFAR-10 Batch 4:  1.48739 0.4694\n",
      "Epoch  4, CIFAR-10 Batch 5:  1.465 0.4744\n",
      "Epoch  5, CIFAR-10 Batch 1:  1.48014 0.4872\n",
      "Epoch  5, CIFAR-10 Batch 2:  1.4466 0.4934\n",
      "Epoch  5, CIFAR-10 Batch 3:  1.37239 0.4962\n",
      "Epoch  5, CIFAR-10 Batch 4:  1.39513 0.4996\n",
      "Epoch  5, CIFAR-10 Batch 5:  1.35944 0.5078\n",
      "Epoch  6, CIFAR-10 Batch 1:  1.38175 0.5232\n",
      "Epoch  6, CIFAR-10 Batch 2:  1.37325 0.5182\n",
      "Epoch  6, CIFAR-10 Batch 3:  1.29701 0.5206\n",
      "Epoch  6, CIFAR-10 Batch 4:  1.32051 0.516\n",
      "Epoch  6, CIFAR-10 Batch 5:  1.30667 0.5302\n",
      "Epoch  7, CIFAR-10 Batch 1:  1.31752 0.5426\n",
      "Epoch  7, CIFAR-10 Batch 2:  1.32411 0.5496\n",
      "Epoch  7, CIFAR-10 Batch 3:  1.2261 0.5428\n",
      "Epoch  7, CIFAR-10 Batch 4:  1.24204 0.5472\n",
      "Epoch  7, CIFAR-10 Batch 5:  1.2278 0.5534\n",
      "Epoch  8, CIFAR-10 Batch 1:  1.256 0.5548\n",
      "Epoch  8, CIFAR-10 Batch 2:  1.26058 0.5638\n",
      "Epoch  8, CIFAR-10 Batch 3:  1.16573 0.5484\n",
      "Epoch  8, CIFAR-10 Batch 4:  1.21632 0.5552\n",
      "Epoch  8, CIFAR-10 Batch 5:  1.18674 0.571\n",
      "Epoch  9, CIFAR-10 Batch 1:  1.19763 0.5672\n",
      "Epoch  9, CIFAR-10 Batch 2:  1.21708 0.5698\n",
      "Epoch  9, CIFAR-10 Batch 3:  1.11977 0.5656\n",
      "Epoch  9, CIFAR-10 Batch 4:  1.16883 0.5622\n",
      "Epoch  9, CIFAR-10 Batch 5:  1.13948 0.5702\n",
      "Epoch 10, CIFAR-10 Batch 1:  1.16721 0.5798\n",
      "Epoch 10, CIFAR-10 Batch 2:  1.18126 0.5744\n",
      "Epoch 10, CIFAR-10 Batch 3:  1.09399 0.575\n",
      "Epoch 10, CIFAR-10 Batch 4:  1.12681 0.568\n",
      "Epoch 10, CIFAR-10 Batch 5:  1.08761 0.589\n",
      "Epoch 11, CIFAR-10 Batch 1:  1.12767 0.5842\n",
      "Epoch 11, CIFAR-10 Batch 2:  1.12596 0.5942\n",
      "Epoch 11, CIFAR-10 Batch 3:  1.04029 0.585\n",
      "Epoch 11, CIFAR-10 Batch 4:  1.07362 0.5988\n",
      "Epoch 11, CIFAR-10 Batch 5:  1.04768 0.5976\n",
      "Epoch 12, CIFAR-10 Batch 1:  1.09547 0.5986\n",
      "Epoch 12, CIFAR-10 Batch 2:  1.08277 0.5972\n",
      "Epoch 12, CIFAR-10 Batch 3:  1.02624 0.5942\n",
      "Epoch 12, CIFAR-10 Batch 4:  1.05059 0.5986\n",
      "Epoch 12, CIFAR-10 Batch 5:  1.01823 0.599\n",
      "Epoch 13, CIFAR-10 Batch 1:  1.0684 0.6114\n",
      "Epoch 13, CIFAR-10 Batch 2:  1.06468 0.6092\n",
      "Epoch 13, CIFAR-10 Batch 3:  0.970189 0.605\n",
      "Epoch 13, CIFAR-10 Batch 4:  1.00707 0.6058\n",
      "Epoch 13, CIFAR-10 Batch 5:  0.974751 0.6148\n",
      "Epoch 14, CIFAR-10 Batch 1:  1.02841 0.6114\n",
      "Epoch 14, CIFAR-10 Batch 2:  1.02102 0.611\n",
      "Epoch 14, CIFAR-10 Batch 3:  0.944439 0.6072\n",
      "Epoch 14, CIFAR-10 Batch 4:  0.978359 0.6122\n",
      "Epoch 14, CIFAR-10 Batch 5:  0.935045 0.617\n",
      "Epoch 15, CIFAR-10 Batch 1:  0.995924 0.6214\n",
      "Epoch 15, CIFAR-10 Batch 2:  0.995782 0.6222\n",
      "Epoch 15, CIFAR-10 Batch 3:  0.914277 0.6216\n",
      "Epoch 15, CIFAR-10 Batch 4:  0.950445 0.6216\n",
      "Epoch 15, CIFAR-10 Batch 5:  0.917175 0.6264\n",
      "Epoch 16, CIFAR-10 Batch 1:  0.959275 0.6278\n",
      "Epoch 16, CIFAR-10 Batch 2:  0.966533 0.6264\n",
      "Epoch 16, CIFAR-10 Batch 3:  0.902025 0.6252\n",
      "Epoch 16, CIFAR-10 Batch 4:  0.927876 0.628\n",
      "Epoch 16, CIFAR-10 Batch 5:  0.896023 0.6348\n",
      "Epoch 17, CIFAR-10 Batch 1:  0.938093 0.6344\n",
      "Epoch 17, CIFAR-10 Batch 2:  0.936903 0.6298\n",
      "Epoch 17, CIFAR-10 Batch 3:  0.888851 0.6334\n",
      "Epoch 17, CIFAR-10 Batch 4:  0.905797 0.6312\n",
      "Epoch 17, CIFAR-10 Batch 5:  0.855977 0.6348\n",
      "Epoch 18, CIFAR-10 Batch 1:  0.918071 0.6404\n",
      "Epoch 18, CIFAR-10 Batch 2:  0.919616 0.6432\n",
      "Epoch 18, CIFAR-10 Batch 3:  0.853484 0.6366\n",
      "Epoch 18, CIFAR-10 Batch 4:  0.871799 0.6438\n",
      "Epoch 18, CIFAR-10 Batch 5:  0.845681 0.636\n",
      "Epoch 19, CIFAR-10 Batch 1:  0.906823 0.6372\n",
      "Epoch 19, CIFAR-10 Batch 2:  0.929209 0.6364\n",
      "Epoch 19, CIFAR-10 Batch 3:  0.826057 0.6416\n",
      "Epoch 19, CIFAR-10 Batch 4:  0.868951 0.6326\n",
      "Epoch 19, CIFAR-10 Batch 5:  0.808277 0.6446\n",
      "Epoch 20, CIFAR-10 Batch 1:  0.891145 0.6406\n",
      "Epoch 20, CIFAR-10 Batch 2:  0.887329 0.643\n",
      "Epoch 20, CIFAR-10 Batch 3:  0.813087 0.6368\n",
      "Epoch 20, CIFAR-10 Batch 4:  0.837805 0.6404\n",
      "Epoch 20, CIFAR-10 Batch 5:  0.789357 0.6508\n",
      "Epoch 21, CIFAR-10 Batch 1:  0.843126 0.6508\n",
      "Epoch 21, CIFAR-10 Batch 2:  0.851481 0.6486\n",
      "Epoch 21, CIFAR-10 Batch 3:  0.788843 0.6476\n",
      "Epoch 21, CIFAR-10 Batch 4:  0.801593 0.651\n",
      "Epoch 21, CIFAR-10 Batch 5:  0.761734 0.6534\n",
      "Epoch 22, CIFAR-10 Batch 1:  0.819907 0.6534\n",
      "Epoch 22, CIFAR-10 Batch 2:  0.830074 0.6544\n",
      "Epoch 22, CIFAR-10 Batch 3:  0.773504 0.6528\n",
      "Epoch 22, CIFAR-10 Batch 4:  0.770266 0.659\n",
      "Epoch 22, CIFAR-10 Batch 5:  0.745933 0.6602\n",
      "Epoch 23, CIFAR-10 Batch 1:  0.812151 0.6606\n",
      "Epoch 23, CIFAR-10 Batch 2:  0.808858 0.6588\n",
      "Epoch 23, CIFAR-10 Batch 3:  0.751573 0.6592\n",
      "Epoch 23, CIFAR-10 Batch 4:  0.771811 0.656\n",
      "Epoch 23, CIFAR-10 Batch 5:  0.715191 0.6634\n",
      "Epoch 24, CIFAR-10 Batch 1:  0.804082 0.658\n",
      "Epoch 24, CIFAR-10 Batch 2:  0.788636 0.6618\n",
      "Epoch 24, CIFAR-10 Batch 3:  0.745616 0.659\n",
      "Epoch 24, CIFAR-10 Batch 4:  0.759197 0.6558\n",
      "Epoch 24, CIFAR-10 Batch 5:  0.712707 0.6608\n",
      "Epoch 25, CIFAR-10 Batch 1:  0.780305 0.6622\n",
      "Epoch 25, CIFAR-10 Batch 2:  0.780127 0.6588\n",
      "Epoch 25, CIFAR-10 Batch 3:  0.723652 0.6594\n",
      "Epoch 25, CIFAR-10 Batch 4:  0.74101 0.6642\n",
      "Epoch 25, CIFAR-10 Batch 5:  0.685347 0.669\n",
      "Epoch 26, CIFAR-10 Batch 1:  0.75556 0.6638\n",
      "Epoch 26, CIFAR-10 Batch 2:  0.758158 0.6644\n",
      "Epoch 26, CIFAR-10 Batch 3:  0.707022 0.6716\n",
      "Epoch 26, CIFAR-10 Batch 4:  0.732321 0.6628\n",
      "Epoch 26, CIFAR-10 Batch 5:  0.661804 0.6702\n",
      "Epoch 27, CIFAR-10 Batch 1:  0.749838 0.6632\n",
      "Epoch 27, CIFAR-10 Batch 2:  0.743468 0.6682\n",
      "Epoch 27, CIFAR-10 Batch 3:  0.689258 0.67\n",
      "Epoch 27, CIFAR-10 Batch 4:  0.693497 0.6732\n",
      "Epoch 27, CIFAR-10 Batch 5:  0.6584 0.6728\n",
      "Epoch 28, CIFAR-10 Batch 1:  0.725661 0.6674\n",
      "Epoch 28, CIFAR-10 Batch 2:  0.715161 0.6662\n",
      "Epoch 28, CIFAR-10 Batch 3:  0.683294 0.6738\n",
      "Epoch 28, CIFAR-10 Batch 4:  0.691998 0.6738\n",
      "Epoch 28, CIFAR-10 Batch 5:  0.62943 0.672\n",
      "Epoch 29, CIFAR-10 Batch 1:  0.705487 0.6714\n",
      "Epoch 29, CIFAR-10 Batch 2:  0.71218 0.666\n",
      "Epoch 29, CIFAR-10 Batch 3:  0.655036 0.675\n",
      "Epoch 29, CIFAR-10 Batch 4:  0.667721 0.675\n",
      "Epoch 29, CIFAR-10 Batch 5:  0.621103 0.676\n",
      "Epoch 30, CIFAR-10 Batch 1:  0.690495 0.6734\n",
      "Epoch 30, CIFAR-10 Batch 2:  0.685077 0.6734\n",
      "Epoch 30, CIFAR-10 Batch 3:  0.652301 0.6792\n",
      "Epoch 30, CIFAR-10 Batch 4:  0.65414 0.676\n",
      "Epoch 30, CIFAR-10 Batch 5:  0.601505 0.6784\n",
      "Epoch 31, CIFAR-10 Batch 1:  0.670542 0.6792\n",
      "Epoch 31, CIFAR-10 Batch 2:  0.675184 0.6714\n",
      "Epoch 31, CIFAR-10 Batch 3:  0.643222 0.6764\n",
      "Epoch 31, CIFAR-10 Batch 4:  0.624856 0.68\n",
      "Epoch 31, CIFAR-10 Batch 5:  0.589915 0.6796\n",
      "Epoch 32, CIFAR-10 Batch 1:  0.660642 0.6806\n",
      "Epoch 32, CIFAR-10 Batch 2:  0.675067 0.6742\n",
      "Epoch 32, CIFAR-10 Batch 3:  0.624091 0.6788\n",
      "Epoch 32, CIFAR-10 Batch 4:  0.635167 0.675\n",
      "Epoch 32, CIFAR-10 Batch 5:  0.562546 0.6804\n",
      "Epoch 33, CIFAR-10 Batch 1:  0.634269 0.6838\n",
      "Epoch 33, CIFAR-10 Batch 2:  0.630593 0.6754\n",
      "Epoch 33, CIFAR-10 Batch 3:  0.628994 0.6808\n",
      "Epoch 33, CIFAR-10 Batch 4:  0.597645 0.6784\n",
      "Epoch 33, CIFAR-10 Batch 5:  0.566187 0.6836\n",
      "Epoch 34, CIFAR-10 Batch 1:  0.621993 0.684\n",
      "Epoch 34, CIFAR-10 Batch 2:  0.621015 0.6818\n",
      "Epoch 34, CIFAR-10 Batch 3:  0.594723 0.6808\n",
      "Epoch 34, CIFAR-10 Batch 4:  0.594192 0.6832\n",
      "Epoch 34, CIFAR-10 Batch 5:  0.556362 0.6812\n",
      "Epoch 35, CIFAR-10 Batch 1:  0.612536 0.6824\n",
      "Epoch 35, CIFAR-10 Batch 2:  0.601311 0.6854\n",
      "Epoch 35, CIFAR-10 Batch 3:  0.586486 0.681\n",
      "Epoch 35, CIFAR-10 Batch 4:  0.57741 0.6856\n",
      "Epoch 35, CIFAR-10 Batch 5:  0.532789 0.682\n",
      "Epoch 36, CIFAR-10 Batch 1:  0.595147 0.6874\n",
      "Epoch 36, CIFAR-10 Batch 2:  0.583131 0.6842\n",
      "Epoch 36, CIFAR-10 Batch 3:  0.569877 0.6872\n",
      "Epoch 36, CIFAR-10 Batch 4:  0.551528 0.6876\n",
      "Epoch 36, CIFAR-10 Batch 5:  0.512162 0.6902\n",
      "Epoch 37, CIFAR-10 Batch 1:  0.589146 0.6898\n",
      "Epoch 37, CIFAR-10 Batch 2:  0.586533 0.682\n",
      "Epoch 37, CIFAR-10 Batch 3:  0.551934 0.6878\n",
      "Epoch 37, CIFAR-10 Batch 4:  0.544964 0.6902\n",
      "Epoch 37, CIFAR-10 Batch 5:  0.509232 0.6868\n",
      "Epoch 38, CIFAR-10 Batch 1:  0.580813 0.689\n",
      "Epoch 38, CIFAR-10 Batch 2:  0.579838 0.685\n",
      "Epoch 38, CIFAR-10 Batch 3:  0.569215 0.6842\n",
      "Epoch 38, CIFAR-10 Batch 4:  0.54634 0.684\n",
      "Epoch 38, CIFAR-10 Batch 5:  0.493115 0.6932\n",
      "Epoch 39, CIFAR-10 Batch 1:  0.556544 0.6852\n",
      "Epoch 39, CIFAR-10 Batch 2:  0.568805 0.6858\n",
      "Epoch 39, CIFAR-10 Batch 3:  0.53273 0.685\n",
      "Epoch 39, CIFAR-10 Batch 4:  0.52534 0.691\n",
      "Epoch 39, CIFAR-10 Batch 5:  0.485434 0.691\n",
      "Epoch 40, CIFAR-10 Batch 1:  0.540542 0.6842\n",
      "Epoch 40, CIFAR-10 Batch 2:  0.542279 0.6892\n",
      "Epoch 40, CIFAR-10 Batch 3:  0.530017 0.6816\n",
      "Epoch 40, CIFAR-10 Batch 4:  0.503205 0.6902\n",
      "Epoch 40, CIFAR-10 Batch 5:  0.458468 0.6884\n",
      "Epoch 41, CIFAR-10 Batch 1:  0.518109 0.6932\n",
      "Epoch 41, CIFAR-10 Batch 2:  0.525182 0.692\n",
      "Epoch 41, CIFAR-10 Batch 3:  0.518794 0.6852\n",
      "Epoch 41, CIFAR-10 Batch 4:  0.503771 0.689\n",
      "Epoch 41, CIFAR-10 Batch 5:  0.460056 0.6894\n",
      "Epoch 42, CIFAR-10 Batch 1:  0.504332 0.6924\n",
      "Epoch 42, CIFAR-10 Batch 2:  0.519118 0.6962\n",
      "Epoch 42, CIFAR-10 Batch 3:  0.501029 0.688\n",
      "Epoch 42, CIFAR-10 Batch 4:  0.486913 0.6864\n",
      "Epoch 42, CIFAR-10 Batch 5:  0.462732 0.6886\n",
      "Epoch 43, CIFAR-10 Batch 1:  0.523496 0.6844\n",
      "Epoch 43, CIFAR-10 Batch 2:  0.506226 0.6952\n",
      "Epoch 43, CIFAR-10 Batch 3:  0.48484 0.692\n",
      "Epoch 43, CIFAR-10 Batch 4:  0.501181 0.6802\n",
      "Epoch 43, CIFAR-10 Batch 5:  0.464793 0.6834\n",
      "Epoch 44, CIFAR-10 Batch 1:  0.516266 0.6806\n",
      "Epoch 44, CIFAR-10 Batch 2:  0.502577 0.6912\n",
      "Epoch 44, CIFAR-10 Batch 3:  0.492399 0.6894\n",
      "Epoch 44, CIFAR-10 Batch 4:  0.492136 0.6812\n",
      "Epoch 44, CIFAR-10 Batch 5:  0.437642 0.688\n",
      "Epoch 45, CIFAR-10 Batch 1:  0.479661 0.6992\n",
      "Epoch 45, CIFAR-10 Batch 2:  0.492359 0.697\n",
      "Epoch 45, CIFAR-10 Batch 3:  0.473721 0.692\n",
      "Epoch 45, CIFAR-10 Batch 4:  0.459918 0.6892\n",
      "Epoch 45, CIFAR-10 Batch 5:  0.421942 0.6928\n",
      "Epoch 46, CIFAR-10 Batch 1:  0.469981 0.6996\n",
      "Epoch 46, CIFAR-10 Batch 2:  0.471096 0.6986\n",
      "Epoch 46, CIFAR-10 Batch 3:  0.482399 0.686\n",
      "Epoch 46, CIFAR-10 Batch 4:  0.468565 0.6884\n",
      "Epoch 46, CIFAR-10 Batch 5:  0.4053 0.6966\n",
      "Epoch 47, CIFAR-10 Batch 1:  0.443545 0.7032\n",
      "Epoch 47, CIFAR-10 Batch 2:  0.460307 0.7006\n",
      "Epoch 47, CIFAR-10 Batch 3:  0.451422 0.6946\n",
      "Epoch 47, CIFAR-10 Batch 4:  0.433557 0.695\n",
      "Epoch 47, CIFAR-10 Batch 5:  0.380384 0.6978\n",
      "Epoch 48, CIFAR-10 Batch 1:  0.432058 0.7024\n",
      "Epoch 48, CIFAR-10 Batch 2:  0.443024 0.7026\n",
      "Epoch 48, CIFAR-10 Batch 3:  0.442522 0.6994\n",
      "Epoch 48, CIFAR-10 Batch 4:  0.412597 0.6986\n",
      "Epoch 48, CIFAR-10 Batch 5:  0.391126 0.697\n",
      "Epoch 49, CIFAR-10 Batch 1:  0.434608 0.6978\n",
      "Epoch 49, CIFAR-10 Batch 2:  0.443175 0.707\n",
      "Epoch 49, CIFAR-10 Batch 3:  0.441267 0.6948\n",
      "Epoch 49, CIFAR-10 Batch 4:  0.406304 0.6976\n",
      "Epoch 49, CIFAR-10 Batch 5:  0.390422 0.6992\n",
      "Epoch 50, CIFAR-10 Batch 1:  0.420753 0.701\n",
      "Epoch 50, CIFAR-10 Batch 2:  0.450024 0.6934\n",
      "Epoch 50, CIFAR-10 Batch 3:  0.421356 0.7018\n",
      "Epoch 50, CIFAR-10 Batch 4:  0.386553 0.7074\n",
      "Epoch 50, CIFAR-10 Batch 5:  0.357077 0.7044\n"
     ]
    }
   ],
   "source": [
    "\"\"\"\n",
    "DON'T MODIFY ANYTHING IN THIS CELL\n",
    "\"\"\"\n",
    "save_model_path = './image_classification'\n",
    "\n",
    "print('Training...')\n",
    "with tf.Session() as sess:\n",
    "    # Initializing the variables\n",
    "    sess.run(tf.global_variables_initializer())\n",
    "    \n",
    "    # Training cycle\n",
    "    for epoch in range(epochs):\n",
    "        # Loop over all batches\n",
    "        n_batches = 5\n",
    "        for batch_i in range(1, n_batches + 1):\n",
    "            for batch_features, batch_labels in helper.load_preprocess_training_batch(batch_i, batch_size):\n",
    "                train_neural_network(sess, optimizer, keep_probability, batch_features, batch_labels)\n",
    "            print('Epoch {:>2}, CIFAR-10 Batch {}:  '.format(epoch + 1, batch_i), end='')\n",
    "            print_stats(sess, batch_features, batch_labels, cost, accuracy)\n",
    "            \n",
    "    # Save Model\n",
    "    saver = tf.train.Saver()\n",
    "    save_path = saver.save(sess, save_model_path)"
   ]
  },
  {
   "cell_type": "markdown",
   "metadata": {
    "deletable": true,
    "editable": true
   },
   "source": [
    "# Checkpoint\n",
    "The model has been saved to disk.\n",
    "## Test Model\n",
    "Test your model against the test dataset.  This will be your final accuracy. You should have an accuracy greater than 50%. If you don't, keep tweaking the model architecture and parameters."
   ]
  },
  {
   "cell_type": "code",
   "execution_count": 18,
   "metadata": {
    "collapsed": false,
    "deletable": true,
    "editable": true
   },
   "outputs": [
    {
     "name": "stdout",
     "output_type": "stream",
     "text": [
      "Testing Accuracy: 0.6979571878910065\n",
      "\n"
     ]
    },
    {
     "data": {
      "image/png": "[encoded data removed]",
      "text/plain": [
       "<matplotlib.figure.Figure at 0x7f0a65dfb630>"
      ]
     },
     "metadata": {
      "image/png": {
       "height": 319,
       "width": 355
      }
     },
     "output_type": "display_data"
    }
   ],
   "source": [
    "\"\"\"\n",
    "DON'T MODIFY ANYTHING IN THIS CELL\n",
    "\"\"\"\n",
    "%matplotlib inline\n",
    "%config InlineBackend.figure_format = 'retina'\n",
    "\n",
    "import tensorflow as tf\n",
    "import pickle\n",
    "import helper\n",
    "import random\n",
    "\n",
    "# Set batch size if not already set\n",
    "try:\n",
    "    if batch_size:\n",
    "        pass\n",
    "except NameError:\n",
    "    batch_size = 64\n",
    "\n",
    "save_model_path = './image_classification'\n",
    "n_samples = 4\n",
    "top_n_predictions = 3\n",
    "\n",
    "def test_model():\n",
    "    \"\"\"\n",
    "    Test the saved model against the test dataset\n",
    "    \"\"\"\n",
    "\n",
    "    test_features, test_labels = pickle.load(open('preprocess_training.p', mode='rb'))\n",
    "    loaded_graph = tf.Graph()\n",
    "\n",
    "    with tf.Session(graph=loaded_graph) as sess:\n",
    "        # Load model\n",
    "        loader = tf.train.import_meta_graph(save_model_path + '.meta')\n",
    "        loader.restore(sess, save_model_path)\n",
    "\n",
    "        # Get Tensors from loaded model\n",
    "        loaded_x = loaded_graph.get_tensor_by_name('x:0')\n",
    "        loaded_y = loaded_graph.get_tensor_by_name('y:0')\n",
    "        loaded_keep_prob = loaded_graph.get_tensor_by_name('keep_prob:0')\n",
    "        loaded_logits = loaded_graph.get_tensor_by_name('logits:0')\n",
    "        loaded_acc = loaded_graph.get_tensor_by_name('accuracy:0')\n",
    "        \n",
    "        # Get accuracy in batches for memory limitations\n",
    "        test_batch_acc_total = 0\n",
    "        test_batch_count = 0\n",
    "        \n",
    "        for train_feature_batch, train_label_batch in helper.batch_features_labels(test_features, test_labels, batch_size):\n",
    "            test_batch_acc_total += sess.run(\n",
    "                loaded_acc,\n",
    "                feed_dict={loaded_x: train_feature_batch, loaded_y: train_label_batch, loaded_keep_prob: 1.0})\n",
    "            test_batch_count += 1\n",
    "\n",
    "        print('Testing Accuracy: {}\\n'.format(test_batch_acc_total/test_batch_count))\n",
    "\n",
    "        # Print Random Samples\n",
    "        random_test_features, random_test_labels = tuple(zip(*random.sample(list(zip(test_features, test_labels)), n_samples)))\n",
    "        random_test_predictions = sess.run(\n",
    "            tf.nn.top_k(tf.nn.softmax(loaded_logits), top_n_predictions),\n",
    "            feed_dict={loaded_x: random_test_features, loaded_y: random_test_labels, loaded_keep_prob: 1.0})\n",
    "        helper.display_image_predictions(random_test_features, random_test_labels, random_test_predictions)\n",
    "\n",
    "\n",
    "test_model()"
   ]
  },
  {
   "cell_type": "markdown",
   "metadata": {
    "deletable": true,
    "editable": true
   },
   "source": [
    "## Why 50-80% Accuracy?\n",
    "You might be wondering why you can't get an accuracy any higher. First things first, 50% isn't bad for a simple CNN.  Pure guessing would get you 10% accuracy. However, you might notice people are getting scores [well above 80%](http://rodrigob.github.io/are_we_there_yet/build/classification_datasets_results.html#43494641522d3130).  That's because we haven't taught you all there is to know about neural networks. We still need to cover a few more techniques.\n",
    "## Submitting This Project\n",
    "When submitting this project, make sure to run all the cells before saving the notebook.  Save the notebook file as \"dlnd_image_classification.ipynb\" and save it as a HTML file under \"File\" -> \"Download as\".  Include the \"helper.py\" and \"problem_unittests.py\" files in your submission."
   ]
  }
 ],
 "metadata": {
  "kernelspec": {
   "display_name": "Python 3",
   "language": "python",
   "name": "python3"
  },
  "language_info": {
   "codemirror_mode": {
    "name": "ipython",
    "version": 3
   },
   "file_extension": ".py",
   "mimetype": "text/x-python",
   "name": "python",
   "nbconvert_exporter": "python",
   "pygments_lexer": "ipython3",
   "version": "3.5.2"
  },
  "widgets": {
   "state": {},
   "version": "1.1.2"
  }
 },
 "nbformat": 4,
 "nbformat_minor": 0
}
